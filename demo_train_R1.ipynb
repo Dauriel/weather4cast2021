{
  "nbformat": 4,
  "nbformat_minor": 0,
  "metadata": {
    "accelerator": "GPU",
    "colab": {
      "name": "demo_train_R1.ipynb",
      "provenance": [],
      "collapsed_sections": [],
      "machine_shape": "hm",
      "authorship_tag": "ABX9TyMSAwsvXe+nCoA1kS0PfmwL"
    },
    "kernelspec": {
      "display_name": "Python 3",
      "name": "python3"
    },
    "language_info": {
      "name": "python"
    }
  },
  "cells": [
    {
      "cell_type": "code",
      "metadata": {
        "id": "UAuuWq-6sqFt"
      },
      "source": [
        "!pip install netCDF4\n",
        "!pip install pytorch_lightning\n",
        "!pip install segmentation-models-pytorch"
      ],
      "execution_count": null,
      "outputs": []
    },
    {
      "cell_type": "code",
      "metadata": {
        "id": "QOkDKsOVAX-q"
      },
      "source": [
        "!wget \"https://www.iarai.ac.at/wp-content/uploads/sites/3/w4c21-download/w4c-core-stage-1/R1.zip\""
      ],
      "execution_count": null,
      "outputs": []
    },
    {
      "cell_type": "code",
      "metadata": {
        "id": "ha4dxHKUI_Dj"
      },
      "source": [
        "!unzip R1.zip -d \"/content/weather_colab/train/utils/data/w4c-core-stage-1/R1/\"\n",
        "!rm R1.zip"
      ],
      "execution_count": null,
      "outputs": []
    },
    {
      "cell_type": "code",
      "metadata": {
        "id": "Ao7F8TrbGT19"
      },
      "source": [
        "!wget \"https://www.iarai.ac.at/wp-content/uploads/sites/3/w4c21-download/statics.zip\"\n",
        "!unzip statics.zip -d \"/content/weather_colab/train/utils/data/static/\"\n",
        "!rm statics.zip"
      ],
      "execution_count": null,
      "outputs": []
    },
    {
      "cell_type": "code",
      "metadata": {
        "colab": {
          "background_save": true
        },
        "id": "RU6nG167FHAe"
      },
      "source": [
        "!python \"/content/weather_colab/train/utils/3-train-UNet-example.py\" --gpu_id 0 --region R1 "
      ],
      "execution_count": null,
      "outputs": []
    }
  ]
}